{
 "cells": [
  {
   "cell_type": "markdown",
   "id": "cf6bc357",
   "metadata": {},
   "source": [
    "# Introductory analysis of data analyst job postings on Glassdoor"
   ]
  },
  {
   "cell_type": "markdown",
   "id": "d04713cb",
   "metadata": {},
   "source": [
    "## 1. Introduction\n",
    "\n",
    "This dataset was created by user picklesueat and it contains details on ~2,200 data analyst job postings from Glassdoor. This notebook will perform some preliminary analysis on the relationship between salary and various factors, such as location, industry, etc., to determine what are the most important factors to earn a higher salary as a data analyst."
   ]
  },
  {
   "cell_type": "markdown",
   "id": "b19943bd",
   "metadata": {},
   "source": [
    "## 2. Data exploration"
   ]
  },
  {
   "cell_type": "code",
   "execution_count": 1,
   "id": "eafc342c",
   "metadata": {
    "scrolled": true
   },
   "outputs": [
    {
     "name": "stdout",
     "output_type": "stream",
     "text": [
      "<class 'pandas.core.frame.DataFrame'>\n",
      "RangeIndex: 2253 entries, 0 to 2252\n",
      "Data columns (total 16 columns):\n",
      " #   Column             Non-Null Count  Dtype  \n",
      "---  ------             --------------  -----  \n",
      " 0   Unnamed: 0         2253 non-null   int64  \n",
      " 1   Job Title          2253 non-null   object \n",
      " 2   Salary Estimate    2253 non-null   object \n",
      " 3   Job Description    2253 non-null   object \n",
      " 4   Rating             2253 non-null   float64\n",
      " 5   Company Name       2252 non-null   object \n",
      " 6   Location           2253 non-null   object \n",
      " 7   Headquarters       2253 non-null   object \n",
      " 8   Size               2253 non-null   object \n",
      " 9   Founded            2253 non-null   int64  \n",
      " 10  Type of ownership  2253 non-null   object \n",
      " 11  Industry           2253 non-null   object \n",
      " 12  Sector             2253 non-null   object \n",
      " 13  Revenue            2253 non-null   object \n",
      " 14  Competitors        2253 non-null   object \n",
      " 15  Easy Apply         2253 non-null   object \n",
      "dtypes: float64(1), int64(2), object(13)\n",
      "memory usage: 281.8+ KB\n"
     ]
    }
   ],
   "source": [
    "import numpy as np\n",
    "import pandas as pd\n",
    "import matplotlib.pyplot as plt\n",
    "jobs=pd.read_csv(\"da_job_postings.csv\")\n",
    "jobs.info()"
   ]
  },
  {
   "cell_type": "code",
   "execution_count": 2,
   "id": "677dfb34",
   "metadata": {
    "scrolled": true
   },
   "outputs": [
    {
     "data": {
      "text/html": [
       "<div>\n",
       "<style scoped>\n",
       "    .dataframe tbody tr th:only-of-type {\n",
       "        vertical-align: middle;\n",
       "    }\n",
       "\n",
       "    .dataframe tbody tr th {\n",
       "        vertical-align: top;\n",
       "    }\n",
       "\n",
       "    .dataframe thead th {\n",
       "        text-align: right;\n",
       "    }\n",
       "</style>\n",
       "<table border=\"1\" class=\"dataframe\">\n",
       "  <thead>\n",
       "    <tr style=\"text-align: right;\">\n",
       "      <th></th>\n",
       "      <th>Unnamed: 0</th>\n",
       "      <th>Job Title</th>\n",
       "      <th>Salary Estimate</th>\n",
       "      <th>Job Description</th>\n",
       "      <th>Rating</th>\n",
       "      <th>Company Name</th>\n",
       "      <th>Location</th>\n",
       "      <th>Headquarters</th>\n",
       "      <th>Size</th>\n",
       "      <th>Founded</th>\n",
       "      <th>Type of ownership</th>\n",
       "      <th>Industry</th>\n",
       "      <th>Sector</th>\n",
       "      <th>Revenue</th>\n",
       "      <th>Competitors</th>\n",
       "      <th>Easy Apply</th>\n",
       "    </tr>\n",
       "  </thead>\n",
       "  <tbody>\n",
       "    <tr>\n",
       "      <th>0</th>\n",
       "      <td>0</td>\n",
       "      <td>Data Analyst, Center on Immigration and Justic...</td>\n",
       "      <td>$37K-$66K (Glassdoor est.)</td>\n",
       "      <td>Are you eager to roll up your sleeves and harn...</td>\n",
       "      <td>3.2</td>\n",
       "      <td>Vera Institute of Justice\\n3.2</td>\n",
       "      <td>New York, NY</td>\n",
       "      <td>New York, NY</td>\n",
       "      <td>201 to 500 employees</td>\n",
       "      <td>1961</td>\n",
       "      <td>Nonprofit Organization</td>\n",
       "      <td>Social Assistance</td>\n",
       "      <td>Non-Profit</td>\n",
       "      <td>$100 to $500 million (USD)</td>\n",
       "      <td>-1</td>\n",
       "      <td>TRUE</td>\n",
       "    </tr>\n",
       "    <tr>\n",
       "      <th>1</th>\n",
       "      <td>1</td>\n",
       "      <td>Quality Data Analyst</td>\n",
       "      <td>$37K-$66K (Glassdoor est.)</td>\n",
       "      <td>Overview\\n\\nProvides analytical and technical ...</td>\n",
       "      <td>3.8</td>\n",
       "      <td>Visiting Nurse Service of New York\\n3.8</td>\n",
       "      <td>New York, NY</td>\n",
       "      <td>New York, NY</td>\n",
       "      <td>10000+ employees</td>\n",
       "      <td>1893</td>\n",
       "      <td>Nonprofit Organization</td>\n",
       "      <td>Health Care Services &amp; Hospitals</td>\n",
       "      <td>Health Care</td>\n",
       "      <td>$2 to $5 billion (USD)</td>\n",
       "      <td>-1</td>\n",
       "      <td>-1</td>\n",
       "    </tr>\n",
       "    <tr>\n",
       "      <th>2</th>\n",
       "      <td>2</td>\n",
       "      <td>Senior Data Analyst, Insights &amp; Analytics Team...</td>\n",
       "      <td>$37K-$66K (Glassdoor est.)</td>\n",
       "      <td>We’re looking for a Senior Data Analyst who ha...</td>\n",
       "      <td>3.4</td>\n",
       "      <td>Squarespace\\n3.4</td>\n",
       "      <td>New York, NY</td>\n",
       "      <td>New York, NY</td>\n",
       "      <td>1001 to 5000 employees</td>\n",
       "      <td>2003</td>\n",
       "      <td>Company - Private</td>\n",
       "      <td>Internet</td>\n",
       "      <td>Information Technology</td>\n",
       "      <td>Unknown / Non-Applicable</td>\n",
       "      <td>GoDaddy</td>\n",
       "      <td>-1</td>\n",
       "    </tr>\n",
       "  </tbody>\n",
       "</table>\n",
       "</div>"
      ],
      "text/plain": [
       "   Unnamed: 0                                          Job Title  \\\n",
       "0           0  Data Analyst, Center on Immigration and Justic...   \n",
       "1           1                               Quality Data Analyst   \n",
       "2           2  Senior Data Analyst, Insights & Analytics Team...   \n",
       "\n",
       "              Salary Estimate  \\\n",
       "0  $37K-$66K (Glassdoor est.)   \n",
       "1  $37K-$66K (Glassdoor est.)   \n",
       "2  $37K-$66K (Glassdoor est.)   \n",
       "\n",
       "                                     Job Description  Rating  \\\n",
       "0  Are you eager to roll up your sleeves and harn...     3.2   \n",
       "1  Overview\\n\\nProvides analytical and technical ...     3.8   \n",
       "2  We’re looking for a Senior Data Analyst who ha...     3.4   \n",
       "\n",
       "                              Company Name      Location  Headquarters  \\\n",
       "0           Vera Institute of Justice\\n3.2  New York, NY  New York, NY   \n",
       "1  Visiting Nurse Service of New York\\n3.8  New York, NY  New York, NY   \n",
       "2                         Squarespace\\n3.4  New York, NY  New York, NY   \n",
       "\n",
       "                     Size  Founded       Type of ownership  \\\n",
       "0    201 to 500 employees     1961  Nonprofit Organization   \n",
       "1        10000+ employees     1893  Nonprofit Organization   \n",
       "2  1001 to 5000 employees     2003       Company - Private   \n",
       "\n",
       "                           Industry                  Sector  \\\n",
       "0                 Social Assistance              Non-Profit   \n",
       "1  Health Care Services & Hospitals             Health Care   \n",
       "2                          Internet  Information Technology   \n",
       "\n",
       "                      Revenue Competitors Easy Apply  \n",
       "0  $100 to $500 million (USD)          -1       TRUE  \n",
       "1      $2 to $5 billion (USD)          -1         -1  \n",
       "2    Unknown / Non-Applicable     GoDaddy         -1  "
      ]
     },
     "execution_count": 2,
     "metadata": {},
     "output_type": "execute_result"
    }
   ],
   "source": [
    "jobs.head(3)"
   ]
  },
  {
   "cell_type": "markdown",
   "id": "e5d646e7",
   "metadata": {},
   "source": [
    "### 2.1 Removing column\n",
    "\n",
    "The first thing we can see it that there is an \"Unnamed: 0\" column that isn't needed, so we can go ahead and remove that for the sake of clarity. "
   ]
  },
  {
   "cell_type": "code",
   "execution_count": 3,
   "id": "2c6c83b4",
   "metadata": {
    "scrolled": true
   },
   "outputs": [],
   "source": [
    "jobs.drop([\"Unnamed: 0\"], axis=1, inplace=True)"
   ]
  },
  {
   "cell_type": "markdown",
   "id": "c2c58591",
   "metadata": {},
   "source": [
    "### 2.2 Removing bad values\n",
    "\n",
    "After some more exploration, we can see that there are a lot of -1 values in the dataset, and in columns that we might need to do analysis on, e.g. rating or sector, as shown below. These might skew the analysis of the data."
   ]
  },
  {
   "cell_type": "code",
   "execution_count": 4,
   "id": "b8aee6ed",
   "metadata": {
    "scrolled": true
   },
   "outputs": [
    {
     "name": "stdout",
     "output_type": "stream",
     "text": [
      "-1.0    272\n",
      " 3.9    140\n",
      " 3.6    135\n",
      " 3.7    132\n",
      " 5.0    131\n",
      " 3.8    130\n",
      " 4.0    129\n",
      " 3.5    125\n",
      " 4.1    119\n",
      " 3.3    109\n",
      " 3.4    101\n",
      " 3.2     91\n",
      " 3.1     68\n",
      " 3.0     57\n",
      " 4.3     55\n",
      " 4.2     47\n",
      " 4.5     47\n",
      " 4.6     46\n",
      " 4.4     46\n",
      " 2.8     43\n",
      " 2.9     40\n",
      " 2.5     32\n",
      " 4.8     29\n",
      " 2.7     25\n",
      " 4.7     23\n",
      " 4.9     17\n",
      " 2.6     14\n",
      " 1.0     10\n",
      " 2.4     10\n",
      " 2.3      9\n",
      " 2.0      6\n",
      " 2.1      4\n",
      " 2.2      3\n",
      " 1.7      2\n",
      " 1.8      2\n",
      " 1.6      2\n",
      " 1.9      2\n",
      "Name: Rating, dtype: int64\n",
      "Information Technology                570\n",
      "Business Services                     524\n",
      "-1                                    353\n",
      "Finance                               169\n",
      "Health Care                           151\n",
      "Education                              52\n",
      "Insurance                              51\n",
      "Accounting & Legal                     43\n",
      "Media                                  42\n",
      "Manufacturing                          40\n",
      "Retail                                 38\n",
      "Government                             36\n",
      "Biotech & Pharmaceuticals              33\n",
      "Non-Profit                             26\n",
      "Aerospace & Defense                    22\n",
      "Transportation & Logistics             20\n",
      "Construction, Repair & Maintenance     16\n",
      "Consumer Services                      14\n",
      "Oil, Gas, Energy & Utilities           13\n",
      "Real Estate                            12\n",
      "Telecommunications                     11\n",
      "Restaurants, Bars & Food Services       8\n",
      "Arts, Entertainment & Recreation        7\n",
      "Mining & Metals                         1\n",
      "Travel & Tourism                        1\n",
      "Name: Sector, dtype: int64\n"
     ]
    }
   ],
   "source": [
    "print(jobs[\"Rating\"].value_counts())\n",
    "print(jobs[\"Sector\"].value_counts())"
   ]
  },
  {
   "cell_type": "markdown",
   "id": "53444612",
   "metadata": {},
   "source": [
    "Thus, we need to remove these -1 values, which probably just indicate no data in that field."
   ]
  },
  {
   "cell_type": "code",
   "execution_count": 5,
   "id": "b6fdcd48",
   "metadata": {},
   "outputs": [],
   "source": [
    "jobs=jobs.replace(-1,np.nan)\n",
    "jobs=jobs.replace(-1.0,np.nan)\n",
    "jobs=jobs.replace(\"-1\",np.nan)\n",
    "jobs=jobs.replace(\"-1.0\",np.nan)"
   ]
  },
  {
   "cell_type": "markdown",
   "id": "767743bb",
   "metadata": {},
   "source": [
    "### 2.3 Transforming salary\n",
    "\n",
    "Now that we have cleaned our data, we can work on transforming some of our columns to make them easier to work with. The first one to tackle will be salary, since it will form the basis of our analysis."
   ]
  },
  {
   "cell_type": "code",
   "execution_count": 6,
   "id": "0d8cf9d9",
   "metadata": {
    "scrolled": false
   },
   "outputs": [
    {
     "data": {
      "text/plain": [
       "$42K-$76K (Glassdoor est.)    57\n",
       "$41K-$78K (Glassdoor est.)    57\n",
       "$50K-$86K (Glassdoor est.)    41\n",
       "$35K-$67K (Glassdoor est.)    33\n",
       "$43K-$76K (Glassdoor est.)    31\n",
       "                              ..\n",
       "$42K-$63K (Glassdoor est.)     4\n",
       "$47K-$81K (Glassdoor est.)     3\n",
       "$43K-$77K (Glassdoor est.)     3\n",
       "$36K-$67K (Glassdoor est.)     3\n",
       "$57K-$70K (Glassdoor est.)     2\n",
       "Name: Salary Estimate, Length: 89, dtype: int64"
      ]
     },
     "execution_count": 6,
     "metadata": {},
     "output_type": "execute_result"
    }
   ],
   "source": [
    "jobs.loc[:,\"Salary Estimate\"].value_counts()"
   ]
  },
  {
   "cell_type": "markdown",
   "id": "54bbb89b",
   "metadata": {},
   "source": [
    "We can compute an average salary as it is currently in the form of a range which is difficult to work with."
   ]
  },
  {
   "cell_type": "code",
   "execution_count": 29,
   "id": "d81195de",
   "metadata": {
    "scrolled": true
   },
   "outputs": [
    {
     "data": {
      "text/html": [
       "<div>\n",
       "<style scoped>\n",
       "    .dataframe tbody tr th:only-of-type {\n",
       "        vertical-align: middle;\n",
       "    }\n",
       "\n",
       "    .dataframe tbody tr th {\n",
       "        vertical-align: top;\n",
       "    }\n",
       "\n",
       "    .dataframe thead th {\n",
       "        text-align: right;\n",
       "    }\n",
       "</style>\n",
       "<table border=\"1\" class=\"dataframe\">\n",
       "  <thead>\n",
       "    <tr style=\"text-align: right;\">\n",
       "      <th></th>\n",
       "      <th>Job Title</th>\n",
       "      <th>Salary Estimate</th>\n",
       "      <th>Job Description</th>\n",
       "      <th>Rating</th>\n",
       "      <th>Company Name</th>\n",
       "      <th>Location</th>\n",
       "      <th>Headquarters</th>\n",
       "      <th>Size</th>\n",
       "      <th>Founded</th>\n",
       "      <th>Type of ownership</th>\n",
       "      <th>Industry</th>\n",
       "      <th>Sector</th>\n",
       "      <th>Revenue</th>\n",
       "      <th>Competitors</th>\n",
       "      <th>Easy Apply</th>\n",
       "      <th>Minimum salary</th>\n",
       "      <th>Maximum salary</th>\n",
       "      <th>Average salary</th>\n",
       "      <th>Seniority</th>\n",
       "    </tr>\n",
       "  </thead>\n",
       "  <tbody>\n",
       "    <tr>\n",
       "      <th>0</th>\n",
       "      <td>Data Analyst, Center on Immigration and Justic...</td>\n",
       "      <td>$37K-$66K (Glassdoor est.)</td>\n",
       "      <td>Are you eager to roll up your sleeves and harn...</td>\n",
       "      <td>3.2</td>\n",
       "      <td>Vera Institute of Justice\\n3.2</td>\n",
       "      <td>New York, NY</td>\n",
       "      <td>New York, NY</td>\n",
       "      <td>201 to 500 employees</td>\n",
       "      <td>1961.0</td>\n",
       "      <td>Nonprofit Organization</td>\n",
       "      <td>Social Assistance</td>\n",
       "      <td>Non-Profit</td>\n",
       "      <td>$100 to $500 million (USD)</td>\n",
       "      <td>NaN</td>\n",
       "      <td>TRUE</td>\n",
       "      <td>37.0</td>\n",
       "      <td>66.0</td>\n",
       "      <td>51.5</td>\n",
       "      <td>2.0</td>\n",
       "    </tr>\n",
       "    <tr>\n",
       "      <th>1</th>\n",
       "      <td>Quality Data Analyst</td>\n",
       "      <td>$37K-$66K (Glassdoor est.)</td>\n",
       "      <td>Overview\\n\\nProvides analytical and technical ...</td>\n",
       "      <td>3.8</td>\n",
       "      <td>Visiting Nurse Service of New York\\n3.8</td>\n",
       "      <td>New York, NY</td>\n",
       "      <td>New York, NY</td>\n",
       "      <td>10000+ employees</td>\n",
       "      <td>1893.0</td>\n",
       "      <td>Nonprofit Organization</td>\n",
       "      <td>Health Care Services &amp; Hospitals</td>\n",
       "      <td>Health Care</td>\n",
       "      <td>$2 to $5 billion (USD)</td>\n",
       "      <td>NaN</td>\n",
       "      <td>NaN</td>\n",
       "      <td>37.0</td>\n",
       "      <td>66.0</td>\n",
       "      <td>51.5</td>\n",
       "      <td>2.0</td>\n",
       "    </tr>\n",
       "    <tr>\n",
       "      <th>2</th>\n",
       "      <td>Senior Data Analyst, Insights &amp; Analytics Team...</td>\n",
       "      <td>$37K-$66K (Glassdoor est.)</td>\n",
       "      <td>We’re looking for a Senior Data Analyst who ha...</td>\n",
       "      <td>3.4</td>\n",
       "      <td>Squarespace\\n3.4</td>\n",
       "      <td>New York, NY</td>\n",
       "      <td>New York, NY</td>\n",
       "      <td>1001 to 5000 employees</td>\n",
       "      <td>2003.0</td>\n",
       "      <td>Company - Private</td>\n",
       "      <td>Internet</td>\n",
       "      <td>Information Technology</td>\n",
       "      <td>Unknown / Non-Applicable</td>\n",
       "      <td>GoDaddy</td>\n",
       "      <td>NaN</td>\n",
       "      <td>37.0</td>\n",
       "      <td>66.0</td>\n",
       "      <td>51.5</td>\n",
       "      <td>3.0</td>\n",
       "    </tr>\n",
       "  </tbody>\n",
       "</table>\n",
       "</div>"
      ],
      "text/plain": [
       "                                           Job Title  \\\n",
       "0  Data Analyst, Center on Immigration and Justic...   \n",
       "1                               Quality Data Analyst   \n",
       "2  Senior Data Analyst, Insights & Analytics Team...   \n",
       "\n",
       "              Salary Estimate  \\\n",
       "0  $37K-$66K (Glassdoor est.)   \n",
       "1  $37K-$66K (Glassdoor est.)   \n",
       "2  $37K-$66K (Glassdoor est.)   \n",
       "\n",
       "                                     Job Description  Rating  \\\n",
       "0  Are you eager to roll up your sleeves and harn...     3.2   \n",
       "1  Overview\\n\\nProvides analytical and technical ...     3.8   \n",
       "2  We’re looking for a Senior Data Analyst who ha...     3.4   \n",
       "\n",
       "                              Company Name      Location  Headquarters  \\\n",
       "0           Vera Institute of Justice\\n3.2  New York, NY  New York, NY   \n",
       "1  Visiting Nurse Service of New York\\n3.8  New York, NY  New York, NY   \n",
       "2                         Squarespace\\n3.4  New York, NY  New York, NY   \n",
       "\n",
       "                     Size  Founded       Type of ownership  \\\n",
       "0    201 to 500 employees   1961.0  Nonprofit Organization   \n",
       "1        10000+ employees   1893.0  Nonprofit Organization   \n",
       "2  1001 to 5000 employees   2003.0       Company - Private   \n",
       "\n",
       "                           Industry                  Sector  \\\n",
       "0                 Social Assistance              Non-Profit   \n",
       "1  Health Care Services & Hospitals             Health Care   \n",
       "2                          Internet  Information Technology   \n",
       "\n",
       "                      Revenue Competitors Easy Apply  Minimum salary  \\\n",
       "0  $100 to $500 million (USD)         NaN       TRUE            37.0   \n",
       "1      $2 to $5 billion (USD)         NaN        NaN            37.0   \n",
       "2    Unknown / Non-Applicable     GoDaddy        NaN            37.0   \n",
       "\n",
       "   Maximum salary  Average salary  Seniority  \n",
       "0            66.0            51.5        2.0  \n",
       "1            66.0            51.5        2.0  \n",
       "2            66.0            51.5        3.0  "
      ]
     },
     "execution_count": 29,
     "metadata": {},
     "output_type": "execute_result"
    }
   ],
   "source": [
    "jobs.loc[:,\"Minimum salary\"]=jobs.loc[:,\"Salary Estimate\"].str.split().str[0].str.split(pat=\"-\", expand=True).loc[:,0].str.strip(\"$\").str.strip(\"K\").astype(float)\n",
    "jobs.loc[:,\"Maximum salary\"]=jobs.loc[:,\"Salary Estimate\"].str.split().str[0].str.split(pat=\"-\", expand=True).loc[:,1].str.strip(\"$\").str.strip(\"K\").astype(float)\n",
    "jobs.loc[:,\"Average salary\"]=(jobs.loc[:,\"Minimum salary\"]+jobs.loc[:,\"Maximum salary\"])/2\n",
    "jobs.head(3)"
   ]
  },
  {
   "cell_type": "markdown",
   "id": "8042b86a",
   "metadata": {},
   "source": [
    "## 3. Salary by sector\n",
    "\n",
    "Next, we can move on to the actual analysis. The first thing we want to consider the relationship between salary and the other variables available in the dataset. One of the most common considerations for prospective job seekers is what industry they should work in. We can attempt to answer this question using our dataset.\n",
    "\n",
    "To analyze this problem, we will calculate average salary by sector. Industry is another option here but it is unnecessarily specific for our uses here, and will lead to many industry categories with minimal job postings. \n",
    "\n",
    "Additionally, we also show the number of postings to caution against smaller samples. In smaller samples we might see skew in distribution in other determining factors, such as role seniority, which might affect the average salary being computed. A sample size metric is also calculated for the purpose of representing sample size as bar height in the graph. Any sample size exceeding 50 is deemed to be large enough in this case."
   ]
  },
  {
   "cell_type": "code",
   "execution_count": 8,
   "id": "2228e63c",
   "metadata": {
    "scrolled": true
   },
   "outputs": [
    {
     "data": {
      "text/html": [
       "<div>\n",
       "<style scoped>\n",
       "    .dataframe tbody tr th:only-of-type {\n",
       "        vertical-align: middle;\n",
       "    }\n",
       "\n",
       "    .dataframe tbody tr th {\n",
       "        vertical-align: top;\n",
       "    }\n",
       "\n",
       "    .dataframe thead th {\n",
       "        text-align: right;\n",
       "    }\n",
       "</style>\n",
       "<table border=\"1\" class=\"dataframe\">\n",
       "  <thead>\n",
       "    <tr style=\"text-align: right;\">\n",
       "      <th></th>\n",
       "      <th>Average salary</th>\n",
       "      <th>No. postings</th>\n",
       "      <th>Sample size</th>\n",
       "    </tr>\n",
       "  </thead>\n",
       "  <tbody>\n",
       "    <tr>\n",
       "      <th>Restaurants, Bars &amp; Food Services</th>\n",
       "      <td>54.000000</td>\n",
       "      <td>8</td>\n",
       "      <td>0.16</td>\n",
       "    </tr>\n",
       "    <tr>\n",
       "      <th>Mining &amp; Metals</th>\n",
       "      <td>59.500000</td>\n",
       "      <td>1</td>\n",
       "      <td>0.02</td>\n",
       "    </tr>\n",
       "    <tr>\n",
       "      <th>Travel &amp; Tourism</th>\n",
       "      <td>62.000000</td>\n",
       "      <td>1</td>\n",
       "      <td>0.02</td>\n",
       "    </tr>\n",
       "    <tr>\n",
       "      <th>Oil, Gas, Energy &amp; Utilities</th>\n",
       "      <td>63.269231</td>\n",
       "      <td>13</td>\n",
       "      <td>0.26</td>\n",
       "    </tr>\n",
       "    <tr>\n",
       "      <th>Government</th>\n",
       "      <td>64.319444</td>\n",
       "      <td>36</td>\n",
       "      <td>0.72</td>\n",
       "    </tr>\n",
       "    <tr>\n",
       "      <th>Non-Profit</th>\n",
       "      <td>65.769231</td>\n",
       "      <td>26</td>\n",
       "      <td>0.52</td>\n",
       "    </tr>\n",
       "    <tr>\n",
       "      <th>Retail</th>\n",
       "      <td>66.684211</td>\n",
       "      <td>38</td>\n",
       "      <td>0.76</td>\n",
       "    </tr>\n",
       "    <tr>\n",
       "      <th>Finance</th>\n",
       "      <td>67.644970</td>\n",
       "      <td>169</td>\n",
       "      <td>0.80</td>\n",
       "    </tr>\n",
       "    <tr>\n",
       "      <th>Media</th>\n",
       "      <td>68.476190</td>\n",
       "      <td>42</td>\n",
       "      <td>0.80</td>\n",
       "    </tr>\n",
       "    <tr>\n",
       "      <th>Aerospace &amp; Defense</th>\n",
       "      <td>68.500000</td>\n",
       "      <td>22</td>\n",
       "      <td>0.44</td>\n",
       "    </tr>\n",
       "    <tr>\n",
       "      <th>Transportation &amp; Logistics</th>\n",
       "      <td>69.350000</td>\n",
       "      <td>20</td>\n",
       "      <td>0.40</td>\n",
       "    </tr>\n",
       "    <tr>\n",
       "      <th>Education</th>\n",
       "      <td>69.567308</td>\n",
       "      <td>52</td>\n",
       "      <td>0.80</td>\n",
       "    </tr>\n",
       "    <tr>\n",
       "      <th>Insurance</th>\n",
       "      <td>70.254902</td>\n",
       "      <td>51</td>\n",
       "      <td>0.80</td>\n",
       "    </tr>\n",
       "    <tr>\n",
       "      <th>Telecommunications</th>\n",
       "      <td>70.363636</td>\n",
       "      <td>11</td>\n",
       "      <td>0.22</td>\n",
       "    </tr>\n",
       "    <tr>\n",
       "      <th>Construction, Repair &amp; Maintenance</th>\n",
       "      <td>70.968750</td>\n",
       "      <td>16</td>\n",
       "      <td>0.32</td>\n",
       "    </tr>\n",
       "    <tr>\n",
       "      <th>Consumer Services</th>\n",
       "      <td>71.500000</td>\n",
       "      <td>14</td>\n",
       "      <td>0.28</td>\n",
       "    </tr>\n",
       "    <tr>\n",
       "      <th>Manufacturing</th>\n",
       "      <td>72.075000</td>\n",
       "      <td>40</td>\n",
       "      <td>0.80</td>\n",
       "    </tr>\n",
       "    <tr>\n",
       "      <th>Business Services</th>\n",
       "      <td>72.273423</td>\n",
       "      <td>524</td>\n",
       "      <td>0.80</td>\n",
       "    </tr>\n",
       "    <tr>\n",
       "      <th>Health Care</th>\n",
       "      <td>72.807947</td>\n",
       "      <td>151</td>\n",
       "      <td>0.80</td>\n",
       "    </tr>\n",
       "    <tr>\n",
       "      <th>Information Technology</th>\n",
       "      <td>74.247368</td>\n",
       "      <td>570</td>\n",
       "      <td>0.80</td>\n",
       "    </tr>\n",
       "    <tr>\n",
       "      <th>Accounting &amp; Legal</th>\n",
       "      <td>75.220930</td>\n",
       "      <td>43</td>\n",
       "      <td>0.80</td>\n",
       "    </tr>\n",
       "    <tr>\n",
       "      <th>Arts, Entertainment &amp; Recreation</th>\n",
       "      <td>80.642857</td>\n",
       "      <td>7</td>\n",
       "      <td>0.14</td>\n",
       "    </tr>\n",
       "    <tr>\n",
       "      <th>Real Estate</th>\n",
       "      <td>80.916667</td>\n",
       "      <td>12</td>\n",
       "      <td>0.24</td>\n",
       "    </tr>\n",
       "    <tr>\n",
       "      <th>Biotech &amp; Pharmaceuticals</th>\n",
       "      <td>83.106061</td>\n",
       "      <td>33</td>\n",
       "      <td>0.66</td>\n",
       "    </tr>\n",
       "  </tbody>\n",
       "</table>\n",
       "</div>"
      ],
      "text/plain": [
       "                                    Average salary  No. postings  Sample size\n",
       "Restaurants, Bars & Food Services        54.000000             8         0.16\n",
       "Mining & Metals                          59.500000             1         0.02\n",
       "Travel & Tourism                         62.000000             1         0.02\n",
       "Oil, Gas, Energy & Utilities             63.269231            13         0.26\n",
       "Government                               64.319444            36         0.72\n",
       "Non-Profit                               65.769231            26         0.52\n",
       "Retail                                   66.684211            38         0.76\n",
       "Finance                                  67.644970           169         0.80\n",
       "Media                                    68.476190            42         0.80\n",
       "Aerospace & Defense                      68.500000            22         0.44\n",
       "Transportation & Logistics               69.350000            20         0.40\n",
       "Education                                69.567308            52         0.80\n",
       "Insurance                                70.254902            51         0.80\n",
       "Telecommunications                       70.363636            11         0.22\n",
       "Construction, Repair & Maintenance       70.968750            16         0.32\n",
       "Consumer Services                        71.500000            14         0.28\n",
       "Manufacturing                            72.075000            40         0.80\n",
       "Business Services                        72.273423           524         0.80\n",
       "Health Care                              72.807947           151         0.80\n",
       "Information Technology                   74.247368           570         0.80\n",
       "Accounting & Legal                       75.220930            43         0.80\n",
       "Arts, Entertainment & Recreation         80.642857             7         0.14\n",
       "Real Estate                              80.916667            12         0.24\n",
       "Biotech & Pharmaceuticals                83.106061            33         0.66"
      ]
     },
     "execution_count": 8,
     "metadata": {},
     "output_type": "execute_result"
    }
   ],
   "source": [
    "salary_sector_df_average_salary=jobs.groupby(\"Sector\").mean().loc[:,\"Average salary\"]\n",
    "salary_sector_df_no_postings=jobs[\"Sector\"].value_counts()\n",
    "salary_sector={\"Average salary\":salary_sector_df_average_salary, \"No. postings\":salary_sector_df_no_postings, \"Sample size\":0}\n",
    "salary_sector_df=pd.DataFrame(data=salary_sector)\n",
    "salary_sector_df=salary_sector_df.sort_values(\"Average salary\")\n",
    "salary_sector_df[\"Sample size\"]=salary_sector_df[\"No. postings\"]/50\n",
    "salary_sector_df.loc[salary_sector_df[\"No. postings\"]>=40, \"Sample size\"]=0.8\n",
    "salary_sector_df"
   ]
  },
  {
   "cell_type": "code",
   "execution_count": 9,
   "id": "2a789939",
   "metadata": {
    "scrolled": false
   },
   "outputs": [
    {
     "data": {
      "image/png": "[encoded data removed]",
      "text/plain": [
       "<Figure size 1440x1440 with 1 Axes>"
      ]
     },
     "metadata": {
      "needs_background": "light"
     },
     "output_type": "display_data"
    }
   ],
   "source": [
    "plt.figure(figsize=(20,20))\n",
    "plt.barh(salary_sector_df.index, salary_sector_df.loc[:,\"Average salary\"], height=salary_sector_df.loc[:,\"Sample size\"])\n",
    "plt.title(\"Average salary by sector (000s)\", fontsize=30)\n",
    "plt.xlabel(\"Salary\", fontsize=20)\n",
    "plt.xticks(fontsize=20)\n",
    "plt.yticks(fontsize=20)\n",
    "plt.show()"
   ]
  },
  {
   "cell_type": "markdown",
   "id": "bd5a61fb",
   "metadata": {},
   "source": [
    "From this graph, we can see that biotech and pharmaceutical is the most lucrative sector to be in, with an average salary of 83.1K on a sample of 33 job postings. The next two are real estate and arts, and entertainment & recreation, though these two have very small sample sizes of 7 and 12, respectively. These two data points also conflict with common knowledge as neither are known as particularly lucrative industries, at least for data analytics. Other industries with higher salaries and a more robust sample size include accounting & legal and information technology.\n",
    "\n",
    "It should be noted that most industries fall within a fairly tight range of $65K-75K, so the variance is not extremely high. Thus, if the variance is not a deal breaker to job seekers, then they may look to other factors, such as work-life balance, personal interests, etc."
   ]
  },
  {
   "cell_type": "markdown",
   "id": "256de0be",
   "metadata": {},
   "source": [
    "## 4. Seniority\n",
    "\n",
    "Another interesting area to explore is seniority and how salary varies by seniority. Prospective job seekers are often interested in how much they can earn at their current experience level or at they experience level that they would like to be hired at.\n",
    "\n",
    "First, we should explore the \"Job Title\" column to see what kind of results exist in the dataset."
   ]
  },
  {
   "cell_type": "code",
   "execution_count": 10,
   "id": "1674c80b",
   "metadata": {
    "scrolled": true
   },
   "outputs": [
    {
     "data": {
      "text/plain": [
       "Data Analyst                                                                        405\n",
       "Senior Data Analyst                                                                  90\n",
       "Junior Data Analyst                                                                  30\n",
       "Business Data Analyst                                                                28\n",
       "Sr. Data Analyst                                                                     21\n",
       "Data Analyst Junior                                                                  17\n",
       "Data Analyst II                                                                      17\n",
       "Data Quality Analyst                                                                 17\n",
       "Data Governance Analyst                                                              16\n",
       "Lead Data Analyst                                                                    15\n",
       "Data Reporting Analyst                                                               13\n",
       "Financial Data Analyst                                                               12\n",
       "Data Analyst I                                                                       11\n",
       "Data Analyst III                                                                     11\n",
       "Marketing Data Analyst                                                                9\n",
       "Sr Data Analyst                                                                       9\n",
       "Data Management Analyst                                                               8\n",
       "Data Warehouse Analyst                                                                8\n",
       "Data Science Analyst                                                                  7\n",
       "Technical Data Analyst                                                                7\n",
       "SQL Data Analyst                                                                      7\n",
       "Research Data Analyst                                                                 6\n",
       "Data Security Analyst                                                                 6\n",
       "Healthcare Data Analyst                                                               6\n",
       "Clinical Data Analyst                                                                 6\n",
       "Senior Healthcare Data Analyst                                                        5\n",
       "NY Healthcare Data/Reporting Analyst                                                  5\n",
       "Data Analyst III (Healthcare Analytics)                                               5\n",
       "Product Data Analyst                                                                  5\n",
       "Operations Data Analyst                                                               4\n",
       "Data Analyst Intern                                                                   4\n",
       "Quality Data Analyst                                                                  4\n",
       "Healthcare Data/Reporting Analyst                                                     4\n",
       "Master Data Analyst                                                                   4\n",
       "Senior Contract Data Analyst                                                          4\n",
       "Data Base Programmer/Analyst                                                          4\n",
       "Business/Data Analyst                                                                 4\n",
       "Data Analyst, Data & Analytics (Advanced Analytics) Manager (Multiple Positions)      4\n",
       "Senior Data Quality Analyst                                                           4\n",
       "TX Healthcare Data/Reporting Analyst                                                  4\n",
       "Data Systems Analyst                                                                  3\n",
       "Division Data and Financial Analyst                                                   3\n",
       "Data Integrity Analyst                                                                3\n",
       "Data Collection Analyst                                                               3\n",
       "Radar Telemetry Data Analyst                                                          3\n",
       "Data Warehouse Analyst III                                                            3\n",
       "Senior Product Data Analyst                                                           3\n",
       "HR Data Analyst II                                                                    3\n",
       "Data analyst                                                                          3\n",
       "Sr. Data Governance Analyst                                                           3\n",
       "Name: Job Title, dtype: int64"
      ]
     },
     "execution_count": 10,
     "metadata": {},
     "output_type": "execute_result"
    }
   ],
   "source": [
    "jobs[\"Job Title\"].value_counts().head(50)"
   ]
  },
  {
   "cell_type": "markdown",
   "id": "0a1e946f",
   "metadata": {},
   "source": [
    "We can see that there is a wide variety of experience levels in the dataset. To be able to calculate salary by experience level, we need a way to segment the dataset by experience level. Python can search for certain keywords in each row, so we use some commonly seen/known keywords in job titles to help segment the dataset. Three levels of seniority seems most appropriate: junior, intermediate, and senior. Although we might add a fourth level (management), there seems to be a minimal number of manager postings in the dataset, so we can ignore that. To make calculations simpler, we will assign a numeric value to each seniority level rather than using a string, with 1 denoting junior positions, and with the number increasing with seniority. Any postings not junior or senior are considered to be intermediate, as the most common job titles are for roles like \"Data Analyst\" or \"Business Analyst\", which should generally be for intermediate levels of experience."
   ]
  },
  {
   "cell_type": "code",
   "execution_count": 11,
   "id": "1264c417",
   "metadata": {},
   "outputs": [],
   "source": [
    "jobs.loc[jobs.loc[:,\"Job Title\"].str.contains(\"Senior|Sr.|Sr|Lead|Master|Manager| III | IV \", case=False, regex=True), \"Seniority\"]=3\n",
    "jobs.loc[jobs.loc[:,\"Job Title\"].str.contains(\"Junior|Jr.|Jr|Entry|Intern| I \", case=False, regex=True), \"Seniority\"]=1\n",
    "jobs.loc[jobs.loc[:,\"Seniority\"].isnull(), \"Seniority\"]=2"
   ]
  },
  {
   "cell_type": "markdown",
   "id": "d399a18b",
   "metadata": {},
   "source": [
    "Now, we can calculate average salary by seniority."
   ]
  },
  {
   "cell_type": "code",
   "execution_count": 33,
   "id": "a951a1f3",
   "metadata": {
    "scrolled": true
   },
   "outputs": [
    {
     "name": "stdout",
     "output_type": "stream",
     "text": [
      "Seniority\n",
      "1.0    67.295238\n",
      "2.0    71.376856\n",
      "3.0    75.348399\n",
      "Name: Average salary, dtype: float64\n",
      "2.0    1617\n",
      "3.0     531\n",
      "1.0     105\n",
      "Name: Seniority, dtype: int64\n"
     ]
    }
   ],
   "source": [
    "jobs_seniority=jobs.groupby(\"Seniority\").mean().loc[:,\"Average salary\"]\n",
    "print(jobs_seniority)\n",
    "print(jobs[\"Seniority\"].value_counts())"
   ]
  },
  {
   "cell_type": "code",
   "execution_count": 13,
   "id": "b28e5f97",
   "metadata": {
    "scrolled": true
   },
   "outputs": [
    {
     "data": {
      "image/png": "[encoded data removed]",
      "text/plain": [
       "<Figure size 288x360 with 1 Axes>"
      ]
     },
     "metadata": {
      "needs_background": "light"
     },
     "output_type": "display_data"
    }
   ],
   "source": [
    "plt.figure(figsize=(4,5))\n",
    "plt.bar(jobs_seniority.index, jobs_seniority.values)\n",
    "plt.title(\"Average salary by role seniority (000s)\")\n",
    "plt.xlabel(\"Seniority\")\n",
    "plt.ylabel(\"Salary\")\n",
    "plt.xticks(jobs_seniority.index)\n",
    "plt.ylim([50,80])\n",
    "plt.show()"
   ]
  },
  {
   "cell_type": "markdown",
   "id": "d6d19409",
   "metadata": {},
   "source": [
    "From this analysis, we can see that although there is an obvious increase in average salary by experience level, the jumps in each role are far less than what might seem reasonable or realistic, with the difference between each level being ~$4k. We can investigate this finding in more detail by plotting each data point by seniority level in a scatter graph."
   ]
  },
  {
   "cell_type": "code",
   "execution_count": 31,
   "id": "02a15d29",
   "metadata": {
    "scrolled": false
   },
   "outputs": [
    {
     "data": {
      "image/png": "[encoded data removed]",
      "text/plain": [
       "<Figure size 216x720 with 1 Axes>"
      ]
     },
     "metadata": {
      "needs_background": "light"
     },
     "output_type": "display_data"
    }
   ],
   "source": [
    "plt.figure(figsize=(3,10))\n",
    "plt.scatter(jobs[\"Seniority\"], jobs[\"Average salary\"])\n",
    "plt.title(\"Salary by role seniority (000s)\")\n",
    "plt.xlabel(\"Seniority\")\n",
    "plt.ylabel(\"Salary\")\n",
    "plt.xticks(jobs_seniority.index)\n",
    "plt.show()"
   ]
  },
  {
   "cell_type": "code",
   "execution_count": 15,
   "id": "9bc5e0f9",
   "metadata": {},
   "outputs": [
    {
     "data": {
      "text/plain": [
       "0.08411097286316542"
      ]
     },
     "execution_count": 15,
     "metadata": {},
     "output_type": "execute_result"
    }
   ],
   "source": [
    "jobs[\"Seniority\"].corr(jobs[\"Average salary\"])"
   ]
  },
  {
   "cell_type": "markdown",
   "id": "741ba54b",
   "metadata": {},
   "source": [
    "We can see from the scatter graph that the distribution of salaries is highly variable in each seniority level. In fact, the range and distribution (right-skewed) seems largely the same in each seniority level. The correlation between seniority and salary seems very low as well.\n",
    "\n",
    "There are a few probable explanation for this:\n",
    "- Postings within experience levels might be skewed in other predictive factors, such as more senior jobs postings in low cost of living areas, or in less lucrative industries.\n",
    "- Data quality issues with Glassdoor since salary ranges are based on user expectation, and wide ranges due to improper collation of data might affect accuracy analysis.\n",
    "- Inadequate segementation of seniority levels. The intermediate category (2 in the graph) in particular has a much larger sample size than the other two categories because it takes all jobs postings that do not explicitly have \"senior\" or \"junior\" in their job title. The result is that there are probably a material number of postings that are labeled \"Data Analyst\" or something similar to actually have expectations for a more or less years of experience.\n",
    "\n",
    "Although the third explanation is the most likely, realistically all three (among other points) are affecting the dataset."
   ]
  },
  {
   "cell_type": "markdown",
   "id": "7deff810",
   "metadata": {},
   "source": [
    "## 5. Conclusion\n",
    "\n",
    "We have investigated the relationship between salary and two other variables: sector and experience level. In the case of sector, there were clearly sectors that were more lucrative than others, such as biotech, pharmaceuticals, and IT. However, most other sectors fell within a fairly tight range of ~10k In the case of experience level, although average salary went up by the experience level required (as expected), the jumps were very small at ~4k per level and there was significant variance in salary within each seniority level. This leads us to believe that although being more experienced will certainly lead to higher salaries, other factors may be more predictive of absolute salary.\n",
    "\n",
    "Next steps would include diving deeper into other interesting factors, such as skillsets or cities (and cost of living). We could also perform a regression analysis to see which factors are most predictive of salaries."
   ]
  }
 ],
 "metadata": {
  "kernelspec": {
   "display_name": "Python 3 (ipykernel)",
   "language": "python",
   "name": "python3"
  },
  "language_info": {
   "codemirror_mode": {
    "name": "ipython",
    "version": 3
   },
   "file_extension": ".py",
   "mimetype": "text/x-python",
   "name": "python",
   "nbconvert_exporter": "python",
   "pygments_lexer": "ipython3",
   "version": "3.9.7"
  }
 },
 "nbformat": 4,
 "nbformat_minor": 5
}
