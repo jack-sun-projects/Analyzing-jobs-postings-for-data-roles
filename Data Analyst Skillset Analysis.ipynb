{
 "cells": [
  {
   "cell_type": "markdown",
   "metadata": {},
   "source": [
    "# Data Analyst Skills Analysis\n",
    "\n",
    "This dataset was created by user picklesueat and it contains details on ~2,200 data analyst job postings from Glassdoor. This notebook will attempt to answer a popular question regarding breaking into the data analysis field: \"Which skills are the most important for aspiring data analysts to learn?\" We will also touch on some adjacent issues, such as the relationship between a data analyst's skill set and other factors such as salary or role seniority."
   ]
  },
  {
   "cell_type": "markdown",
   "metadata": {},
   "source": [
    "## 1. Data exploration\n",
    "\n",
    "First we will perform some basic data cleaning. Since most of it was done already in a different notebook, the explanations will be omitted for conciseness. The most important item to note is that an average salary column was computed in order to aid our analysis of the data."
   ]
  },
  {
   "cell_type": "code",
   "execution_count": 1,
   "metadata": {},
   "outputs": [],
   "source": [
    "import numpy as np\n",
    "import pandas as pd\n",
    "import matplotlib.pyplot as plt"
   ]
  },
  {
   "cell_type": "code",
   "execution_count": 2,
   "metadata": {},
   "outputs": [
    {
     "data": {
      "text/html": [
       "<div>\n",
       "<style scoped>\n",
       "    .dataframe tbody tr th:only-of-type {\n",
       "        vertical-align: middle;\n",
       "    }\n",
       "\n",
       "    .dataframe tbody tr th {\n",
       "        vertical-align: top;\n",
       "    }\n",
       "\n",
       "    .dataframe thead th {\n",
       "        text-align: right;\n",
       "    }\n",
       "</style>\n",
       "<table border=\"1\" class=\"dataframe\">\n",
       "  <thead>\n",
       "    <tr style=\"text-align: right;\">\n",
       "      <th></th>\n",
       "      <th>Unnamed: 0.1</th>\n",
       "      <th>Unnamed: 0</th>\n",
       "      <th>Job Title</th>\n",
       "      <th>Salary Estimate</th>\n",
       "      <th>Job Description</th>\n",
       "      <th>Rating</th>\n",
       "      <th>Company Name</th>\n",
       "      <th>Location</th>\n",
       "      <th>Headquarters</th>\n",
       "      <th>Size</th>\n",
       "      <th>Founded</th>\n",
       "      <th>Type of ownership</th>\n",
       "      <th>Industry</th>\n",
       "      <th>Sector</th>\n",
       "      <th>Revenue</th>\n",
       "      <th>Competitors</th>\n",
       "      <th>Easy Apply</th>\n",
       "    </tr>\n",
       "  </thead>\n",
       "  <tbody>\n",
       "    <tr>\n",
       "      <th>0</th>\n",
       "      <td>0</td>\n",
       "      <td>0</td>\n",
       "      <td>Data Analyst, Center on Immigration and Justic...</td>\n",
       "      <td>$37K-$66K (Glassdoor est.)</td>\n",
       "      <td>Are you eager to roll up your sleeves and harn...</td>\n",
       "      <td>3.2</td>\n",
       "      <td>Vera Institute of Justice\\n3.2</td>\n",
       "      <td>New York, NY</td>\n",
       "      <td>New York, NY</td>\n",
       "      <td>201 to 500 employees</td>\n",
       "      <td>1961</td>\n",
       "      <td>Nonprofit Organization</td>\n",
       "      <td>Social Assistance</td>\n",
       "      <td>Non-Profit</td>\n",
       "      <td>$100 to $500 million (USD)</td>\n",
       "      <td>-1</td>\n",
       "      <td>TRUE</td>\n",
       "    </tr>\n",
       "  </tbody>\n",
       "</table>\n",
       "</div>"
      ],
      "text/plain": [
       "   Unnamed: 0.1  Unnamed: 0  \\\n",
       "0             0           0   \n",
       "\n",
       "                                           Job Title  \\\n",
       "0  Data Analyst, Center on Immigration and Justic...   \n",
       "\n",
       "              Salary Estimate  \\\n",
       "0  $37K-$66K (Glassdoor est.)   \n",
       "\n",
       "                                     Job Description  Rating  \\\n",
       "0  Are you eager to roll up your sleeves and harn...     3.2   \n",
       "\n",
       "                     Company Name      Location  Headquarters  \\\n",
       "0  Vera Institute of Justice\\n3.2  New York, NY  New York, NY   \n",
       "\n",
       "                   Size  Founded       Type of ownership           Industry  \\\n",
       "0  201 to 500 employees     1961  Nonprofit Organization  Social Assistance   \n",
       "\n",
       "       Sector                     Revenue Competitors Easy Apply  \n",
       "0  Non-Profit  $100 to $500 million (USD)          -1       TRUE  "
      ]
     },
     "execution_count": 2,
     "metadata": {},
     "output_type": "execute_result"
    }
   ],
   "source": [
    "jobs=pd.read_csv(\"H:\\Random files\\Data analyst\\data analyst job postings\\da_job_postings.csv\")\n",
    "jobs.head(1)"
   ]
  },
  {
   "cell_type": "code",
   "execution_count": 3,
   "metadata": {},
   "outputs": [],
   "source": [
    "jobs.drop([\"Unnamed: 0\"], axis=1, inplace=True)\n",
    "jobs.drop([\"Unnamed: 0.1\"], axis=1, inplace=True)"
   ]
  },
  {
   "cell_type": "code",
   "execution_count": 4,
   "metadata": {},
   "outputs": [],
   "source": [
    "jobs=jobs.replace(-1,np.nan)\n",
    "jobs=jobs.replace(-1.0,np.nan)\n",
    "jobs=jobs.replace(\"-1\",np.nan)\n",
    "jobs=jobs.replace(\"-1.0\",np.nan)"
   ]
  },
  {
   "cell_type": "code",
   "execution_count": 5,
   "metadata": {},
   "outputs": [],
   "source": [
    "jobs.loc[:,\"Minimum salary\"]=jobs.loc[:,\"Salary Estimate\"].str.split().str[0].str.split(pat=\"-\", expand=True).loc[:,0].str.strip(\"$\").str.strip(\"K\").astype(float)\n",
    "jobs.loc[:,\"Maximum salary\"]=jobs.loc[:,\"Salary Estimate\"].str.split().str[0].str.split(pat=\"-\", expand=True).loc[:,1].str.strip(\"$\").str.strip(\"K\").astype(float)\n",
    "jobs.loc[:,\"Average salary\"]=(jobs.loc[:,\"Minimum salary\"]+jobs.loc[:,\"Maximum salary\"])/2"
   ]
  },
  {
   "cell_type": "code",
   "execution_count": 6,
   "metadata": {},
   "outputs": [
    {
     "data": {
      "text/html": [
       "<div>\n",
       "<style scoped>\n",
       "    .dataframe tbody tr th:only-of-type {\n",
       "        vertical-align: middle;\n",
       "    }\n",
       "\n",
       "    .dataframe tbody tr th {\n",
       "        vertical-align: top;\n",
       "    }\n",
       "\n",
       "    .dataframe thead th {\n",
       "        text-align: right;\n",
       "    }\n",
       "</style>\n",
       "<table border=\"1\" class=\"dataframe\">\n",
       "  <thead>\n",
       "    <tr style=\"text-align: right;\">\n",
       "      <th></th>\n",
       "      <th>Job Title</th>\n",
       "      <th>Salary Estimate</th>\n",
       "      <th>Job Description</th>\n",
       "      <th>Rating</th>\n",
       "      <th>Company Name</th>\n",
       "      <th>Location</th>\n",
       "      <th>Headquarters</th>\n",
       "      <th>Size</th>\n",
       "      <th>Founded</th>\n",
       "      <th>Type of ownership</th>\n",
       "      <th>Industry</th>\n",
       "      <th>Sector</th>\n",
       "      <th>Revenue</th>\n",
       "      <th>Competitors</th>\n",
       "      <th>Easy Apply</th>\n",
       "      <th>Minimum salary</th>\n",
       "      <th>Maximum salary</th>\n",
       "      <th>Average salary</th>\n",
       "    </tr>\n",
       "  </thead>\n",
       "  <tbody>\n",
       "    <tr>\n",
       "      <th>0</th>\n",
       "      <td>Data Analyst, Center on Immigration and Justic...</td>\n",
       "      <td>$37K-$66K (Glassdoor est.)</td>\n",
       "      <td>Are you eager to roll up your sleeves and harn...</td>\n",
       "      <td>3.2</td>\n",
       "      <td>Vera Institute of Justice\\n3.2</td>\n",
       "      <td>New York, NY</td>\n",
       "      <td>New York, NY</td>\n",
       "      <td>201 to 500 employees</td>\n",
       "      <td>1961.0</td>\n",
       "      <td>Nonprofit Organization</td>\n",
       "      <td>Social Assistance</td>\n",
       "      <td>Non-Profit</td>\n",
       "      <td>$100 to $500 million (USD)</td>\n",
       "      <td>NaN</td>\n",
       "      <td>TRUE</td>\n",
       "      <td>37.0</td>\n",
       "      <td>66.0</td>\n",
       "      <td>51.5</td>\n",
       "    </tr>\n",
       "  </tbody>\n",
       "</table>\n",
       "</div>"
      ],
      "text/plain": [
       "                                           Job Title  \\\n",
       "0  Data Analyst, Center on Immigration and Justic...   \n",
       "\n",
       "              Salary Estimate  \\\n",
       "0  $37K-$66K (Glassdoor est.)   \n",
       "\n",
       "                                     Job Description  Rating  \\\n",
       "0  Are you eager to roll up your sleeves and harn...     3.2   \n",
       "\n",
       "                     Company Name      Location  Headquarters  \\\n",
       "0  Vera Institute of Justice\\n3.2  New York, NY  New York, NY   \n",
       "\n",
       "                   Size  Founded       Type of ownership           Industry  \\\n",
       "0  201 to 500 employees   1961.0  Nonprofit Organization  Social Assistance   \n",
       "\n",
       "       Sector                     Revenue Competitors Easy Apply  \\\n",
       "0  Non-Profit  $100 to $500 million (USD)         NaN       TRUE   \n",
       "\n",
       "   Minimum salary  Maximum salary  Average salary  \n",
       "0            37.0            66.0            51.5  "
      ]
     },
     "execution_count": 6,
     "metadata": {},
     "output_type": "execute_result"
    }
   ],
   "source": [
    "jobs.head(1)"
   ]
  },
  {
   "cell_type": "markdown",
   "metadata": {},
   "source": [
    "## 2. Skills analysis"
   ]
  },
  {
   "cell_type": "markdown",
   "metadata": {},
   "source": [
    "We can start by tackling a simple question: what are the most common skills required to be a data analyst? To answer this question, we can simply count mentions of each skill in the job descriptions column. We need to be particularly careful with certain skills like R which can obviously be found in regular words, so we use regex to ensure that we only match the coding language. For clarity, we will categorize skills into three types: coding, data visualization, and machine learning. Most data analysis skills can be placed into one of these buckets. We split skills up by category for clarity as we can not only compare the importance of skills in general, but also the type of skill; are data visualization skills more or less important than knowing how to code?"
   ]
  },
  {
   "cell_type": "code",
   "execution_count": 7,
   "metadata": {},
   "outputs": [],
   "source": [
    "jobs[\"Job Description\"]=jobs[\"Job Description\"].str.lower()"
   ]
  },
  {
   "cell_type": "code",
   "execution_count": 8,
   "metadata": {},
   "outputs": [
    {
     "name": "stdout",
     "output_type": "stream",
     "text": [
      "{'sql': 1389, 'excel': 1354, 'python': 637, 'r': 441, 'sas': 411, 'vba': 61, 'pandas': 41, 'numpy': 23}\n"
     ]
    }
   ],
   "source": [
    "coding_skills=[\"sql\",\"python\",r\"\\br\\b\",\"sas\",\"vba\",\"excel\",\"pandas\",\"numpy\"]\n",
    "coding_skill_counts={}\n",
    "\n",
    "for s in coding_skills:\n",
    "    coding_skill_counts[s]=jobs[\"Job Description\"].str.contains(s).sum()\n",
    "coding_skill_counts[\"r\"]=coding_skill_counts.pop(r\"\\br\\b\")\n",
    "coding_skill_counts=dict(sorted(coding_skill_counts.items(), key=lambda item: item[1], reverse=True))\n",
    "\n",
    "print(coding_skill_counts)"
   ]
  },
  {
   "cell_type": "code",
   "execution_count": 9,
   "metadata": {},
   "outputs": [
    {
     "name": "stdout",
     "output_type": "stream",
     "text": [
      "{'bi': 884, 'tableau': 620, 'looker': 108, 'powerbi': 78, 'qlik': 76, 'matplotlib': 11, 'seaborn': 4}\n"
     ]
    }
   ],
   "source": [
    "viz_skills=[r\"\\bbi\\b|visuali[sz]ation|business intelligence\",\"powerbi\",\"tableau\",\"qlik\",\"looker\",\"matplotlib\",\"seaborn\"]\n",
    "viz_skill_counts={}\n",
    "\n",
    "for s in viz_skills:\n",
    "    viz_skill_counts[s]=jobs[\"Job Description\"].str.contains(s).sum()\n",
    "viz_skill_counts[\"bi\"]=viz_skill_counts.pop(r\"\\bbi\\b|visuali[sz]ation|business intelligence\")\n",
    "viz_skill_counts=dict(sorted(viz_skill_counts.items(), key=lambda item: item[1], reverse=True))\n",
    "\n",
    "print(viz_skill_counts)"
   ]
  },
  {
   "cell_type": "code",
   "execution_count": 10,
   "metadata": {},
   "outputs": [
    {
     "name": "stdout",
     "output_type": "stream",
     "text": [
      "{'ml': 192, 'scikit': 17, 'tensorflow': 5, 'pytorch': 1}\n"
     ]
    }
   ],
   "source": [
    "ml_skills=[r\"machine learning|\\bml\\b\",\"tensorflow\",\"pytorch\",\"scikit\"]\n",
    "ml_skill_counts={}\n",
    "\n",
    "for s in ml_skills:\n",
    "    ml_skill_counts[s]=jobs[\"Job Description\"].str.contains(s).sum()\n",
    "ml_skill_counts[\"ml\"]=ml_skill_counts.pop(r\"machine learning|\\bml\\b\")\n",
    "ml_skill_counts=dict(sorted(ml_skill_counts.items(), key=lambda item: item[1], reverse=True))\n",
    "\n",
    "print(ml_skill_counts)"
   ]
  },
  {
   "cell_type": "code",
   "execution_count": 11,
   "metadata": {},
   "outputs": [
    {
     "data": {
      "image/png": "[encoded data removed]",
      "text/plain": [
       "<Figure size 1440x360 with 1 Axes>"
      ]
     },
     "metadata": {
      "needs_background": "light"
     },
     "output_type": "display_data"
    }
   ],
   "source": [
    "plt.figure(figsize=(20,5))\n",
    "plt.bar(coding_skill_counts.keys(),coding_skill_counts.values())\n",
    "plt.bar(viz_skill_counts.keys(),viz_skill_counts.values())\n",
    "plt.bar(ml_skill_counts.keys(),ml_skill_counts.values())\n",
    "plt.ylabel(\"Mentions\",fontsize=15)\n",
    "plt.title(\"Number of mentions for common data analysis skills\", fontsize=20)\n",
    "plt.show()"
   ]
  },
  {
   "cell_type": "markdown",
   "metadata": {},
   "source": [
    "From our graph we can see that coding skills are the most in demand. SQL and Excel skills are by far the most desired, which makes sense given that they are the most foundational skills used in data analysis (even though Excel isn't a coding language, it fits with this group the best). Out of Python and R, the two most common \"advanced\" programming languages, Python is more common by a fair margin. SAS is also quite common, although it can be viewed as a complement to SQL, a fairly similar skill. VBA seems to be fairly rare, as data analysts will typically use less Excel and more SQL/Python/R. The most popular Python data analysis libraries in pandas and numpy were also very rare, although they may be expected of analysts who consider themselves well-versed in Python.\n",
    "\n",
    "After SQL and Excel, data visualization is the next most sought-after skill, with Tableau being the most popular software by a large margin. Other popular software cohices include Looker and PowerBI, with Python libraries like matplotlib and seaborn perhaps being more common with data scientists.\n",
    "\n",
    "Finally, machine learning tends to be a skill that does not show up too much in data analyst job postings, which makes sense as typically it is a skill more commonly held by data scientists."
   ]
  },
  {
   "cell_type": "markdown",
   "metadata": {},
   "source": [
    "## 3. Relationship between skillset and salary\n",
    "\n",
    "Next we will examine the relationship between the skills required by a job posting and the amount of salary one might expect to earn. For the purposes the analysis we will only show skills with a reasonably larger sample size, as listed below."
   ]
  },
  {
   "cell_type": "code",
   "execution_count": 12,
   "metadata": {},
   "outputs": [
    {
     "name": "stdout",
     "output_type": "stream",
     "text": [
      "{'python': [74.73390894819467, 71.09318885448917], 'tableau': [74.24354838709678, 71.31740196078431], 'ml': [74.16145833333333, 71.93300970873787], 'r': [73.36961451247166, 71.81943677526229], 'sql': [71.79646974063401, 72.64756944444444], 'excel': [71.66666666666667, 72.80978865406007], 'bi': [71.40214932126698, 72.58881578947368], 'sas': [69.47323600973236, 72.71455730581206]}\n"
     ]
    }
   ],
   "source": [
    "skills=[\"sql\",\"python\",r\"\\br\\b\",\"sas\",\"excel\",r\"\\bbi\\b|visuali[sz]ation|business intelligence\",\"tableau\",r\"machine learning|\\bml\\b\"]\n",
    "\n",
    "skill_salary={}\n",
    "for s in skills:\n",
    "    jobs[s]=jobs[\"Job Description\"].str.contains(s)\n",
    "    skill_salary[s]=[jobs.loc[jobs[s], \"Average salary\"].mean(), jobs.loc[jobs[s]==False, \"Average salary\"].mean()]\n",
    "\n",
    "regex_to_replace=[r\"\\br\\b\", r\"\\bbi\\b|visuali[sz]ation|business intelligence\", r\"machine learning|\\bml\\b\"]\n",
    "regex_replacement=[\"r\",\"bi\",\"ml\"]\n",
    "for rtr, rr in zip(regex_to_replace, regex_replacement):\n",
    "    skill_salary[rr]=skill_salary.pop(rtr)\n",
    "\n",
    "skill_salary=dict(sorted(skill_salary.items(), key=lambda item: item[1][0], reverse=True))\n",
    "\n",
    "print(skill_salary)"
   ]
  },
  {
   "cell_type": "code",
   "execution_count": 13,
   "metadata": {},
   "outputs": [
    {
     "data": {
      "image/png": "[encoded data removed]",
      "text/plain": [
       "<Figure size 720x360 with 1 Axes>"
      ]
     },
     "metadata": {
      "needs_background": "light"
     },
     "output_type": "display_data"
    }
   ],
   "source": [
    "x=np.arange(len(skills))\n",
    "\n",
    "plt.figure(figsize=(10,5))\n",
    "plt.bar(x-0.15, [i[0] for i in skill_salary.values()], width=0.3, label=\"Mentioned\")\n",
    "plt.bar(x+0.15, [i[1] for i in skill_salary.values()], width=0.3, label=\"Not mentioned\")\n",
    "plt.xticks(x, skill_salary.keys())\n",
    "plt.ylim(60,80)\n",
    "plt.legend()\n",
    "plt.title(\"Average salary by skill\")\n",
    "plt.ylabel(\"Average salary\")\n",
    "plt.show()"
   ]
  },
  {
   "cell_type": "markdown",
   "metadata": {},
   "source": [
    "From this graph we can see that the ascending blue bars suggest that more advanced skills like Python do actually coommand a higher average salary, as well as the mention of general machine learning skills. Although the difference is quite small, this is to be understood as most data analysis jobs will require SQL, which will skew the average higher.\n",
    "\n",
    "Another thing to look at is the difference between the blue and orange bars, which shows the difference in salaries between jobs that mention and do not mention a particular skill. We can see there are large differences for Python and Tableau, suggesting these are important skills for data analysts to earn a higher salary.\n",
    "\n",
    "To advance this piece of analysis, we could perhaps look at job postings that mention only basic skills, such as SQL or Excel, to get a better idea of the true differences in salary between analysts with more or less advanced skillsets."
   ]
  },
  {
   "cell_type": "code",
   "execution_count": 14,
   "metadata": {},
   "outputs": [
    {
     "name": "stdout",
     "output_type": "stream",
     "text": [
      "non_adv_salary: 71.22350993377484 \n",
      " adv_salary: 73.34974093264249\n"
     ]
    }
   ],
   "source": [
    "skill_jobs=jobs.loc[(~(~jobs.iloc[:,18:26]).all(axis=1)),:]\n",
    "non_adv_salary=skill_jobs.loc[(~skill_jobs.loc[:,['python', '\\\\br\\\\b', 'machine learning|\\\\bml\\\\b']]).all(axis=1), \"Average salary\"].mean()\n",
    "adv_salary=skill_jobs.loc[(~(~skill_jobs.loc[:,['python', '\\\\br\\\\b', 'machine learning|\\\\bml\\\\b']]).all(axis=1)), \"Average salary\"].mean()\n",
    "\n",
    "print(\"non_adv_salary:\", non_adv_salary, \"\\n\", \"adv_salary:\", adv_salary)"
   ]
  },
  {
   "cell_type": "markdown",
   "metadata": {},
   "source": [
    "As we can see, even after dividing up job postings by whether or not they require any advanced skill (in this case, an advanced skill is considered to be Python, R, or anything related to machine learning), there is quite a small difference in salaries. This tells us that for the data analyst role, foundational skills such as Excel, SQL, and data visualization are the most important to have.\n",
    "\n",
    "Obviously the sample size is small enough that factors which are highly predictive of salary (e.g. location) would strongly skew the results. Also, this analysis relies on the job description, which is not always an accurate representation of the actual role. Finally, we also rely on Glassdoor salary estimates, which are often very large, especially for smaller companies, so taking the midpoint may not be representative of the actual role."
   ]
  },
  {
   "cell_type": "markdown",
   "metadata": {},
   "source": [
    "## 5. Conclusion\n"
   ]
  },
  {
   "cell_type": "markdown",
   "metadata": {},
   "source": [
    "In conclusion, the data would suggest that the most important to data analysts are the foundational ones: Excel, SQL, and some kind of data visualization software. Skills like Python or R are useful but not vital. However, our analysis does have its limitations, as stated above. To better it, we would need a larger sample size and better estimates of job salaries, which is difficult given the general lack of transparency on the topic."
   ]
  }
 ],
 "metadata": {
  "kernelspec": {
   "display_name": "Python 3.9.7 ('base')",
   "language": "python",
   "name": "python3"
  },
  "language_info": {
   "codemirror_mode": {
    "name": "ipython",
    "version": 3
   },
   "file_extension": ".py",
   "mimetype": "text/x-python",
   "name": "python",
   "nbconvert_exporter": "python",
   "pygments_lexer": "ipython3",
   "version": "3.9.7"
  },
  "orig_nbformat": 4,
  "vscode": {
   "interpreter": {
    "hash": "969d453db9a3311ee26b7e821c500eaceadc225c841ea766dfa377f6ead3c0f7"
   }
  }
 },
 "nbformat": 4,
 "nbformat_minor": 2
}
